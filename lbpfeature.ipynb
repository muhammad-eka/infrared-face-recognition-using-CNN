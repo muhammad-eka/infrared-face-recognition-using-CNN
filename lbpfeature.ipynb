{
 "cells": [
  {
   "cell_type": "code",
   "execution_count": 1,
   "id": "54bd71cc-6057-44f9-90e9-2d73fcc63af4",
   "metadata": {},
   "outputs": [],
   "source": [
    "# import the necessary packages\n",
    "\n",
    "# for the lbp\n",
    "from skimage import feature\n",
    "\n",
    "import matplotlib.pyplot as plt\n",
    "import numpy as np\n",
    "import argparse\n",
    "import imutils\n",
    "import cv2"
   ]
  },
  {
   "cell_type": "code",
   "execution_count": 2,
   "id": "d1166647-e2b4-4911-9b8d-da1bc415deaf",
   "metadata": {},
   "outputs": [],
   "source": [
    "def resizeImage(image):\n",
    "    (h, w) = image.shape[:2]\n",
    "\n",
    "    width = 360  #  This \"width\" is the width of the resize`ed image\n",
    "    # calculate the ratio of the width and construct the\n",
    "    # dimensions\n",
    "    ratio = width / float(w)\n",
    "    dim = (width, int(h * ratio))\n",
    "    resized = cv2.resize(image, dim, interpolation=cv2.INTER_AREA)\n",
    "    #resized = cv2.resize(image, dim, interpolation=cv2.INTER_CUBIC)\n",
    "    return resized"
   ]
  },
  {
   "cell_type": "code",
   "execution_count": 3,
   "id": "1ab81db0-4444-4d87-91f9-351091500399",
   "metadata": {},
   "outputs": [
    {
     "data": {
      "text/plain": [
       "True"
      ]
     },
     "execution_count": 3,
     "metadata": {},
     "output_type": "execute_result"
    }
   ],
   "source": [
    "# 1 load the image\n",
    "imagepath = r\"Dataset HAAR/thermal face cropped Fauzan/fauzan.208.jpg\"\n",
    "# , double it in size, and grab the cell size\n",
    "image = cv2.imread(imagepath)\n",
    "#image = imutils.resize(image, width=image.shape[1] * 2, inter=cv2.INTER_CUBIC)\n",
    "\n",
    "# 2 resize the image\n",
    "image = resizeImage(image)\n",
    "(h, w) = image.shape[:2]\n",
    "#cellSize = 16 * 2\n",
    "cellSize = h/10\n",
    "\n",
    "# 3 convert the image to grayscale and show it\n",
    "gray = cv2.cvtColor(image, cv2.COLOR_BGR2GRAY)\n",
    "cv2.imshow(\"Image\", gray)\n",
    "cv2.waitKey(0)\n",
    "\n",
    "# save the image\n",
    "cv2.imwrite(\"LBP example feature/gray_resized_image.png\", gray)\n"
   ]
  },
  {
   "cell_type": "code",
   "execution_count": 16,
   "id": "12c573d9-25c8-4f3d-9645-033ea2384e36",
   "metadata": {},
   "outputs": [
    {
     "data": {
      "image/png": "[encoded data removed]",
      "text/plain": [
       "<Figure size 432x288 with 1 Axes>"
      ]
     },
     "metadata": {},
     "output_type": "display_data"
    },
    {
     "ename": "TypeError",
     "evalue": "'float' object cannot be interpreted as an integer",
     "output_type": "error",
     "traceback": [
      "\u001b[1;31m---------------------------------------------------------------------------\u001b[0m",
      "\u001b[1;31mTypeError\u001b[0m                                 Traceback (most recent call last)",
      "\u001b[1;32m~\\AppData\\Local\\Temp/ipykernel_14668/3800599132.py\u001b[0m in \u001b[0;36m<module>\u001b[1;34m\u001b[0m\n\u001b[0;32m     39\u001b[0m \u001b[1;31m# Draw the box around area\u001b[0m\u001b[1;33m\u001b[0m\u001b[1;33m\u001b[0m\u001b[0m\n\u001b[0;32m     40\u001b[0m \u001b[1;31m# loop over the x-axis of the image\u001b[0m\u001b[1;33m\u001b[0m\u001b[1;33m\u001b[0m\u001b[0m\n\u001b[1;32m---> 41\u001b[1;33m \u001b[1;32mfor\u001b[0m \u001b[0mx\u001b[0m \u001b[1;32min\u001b[0m \u001b[0mrange\u001b[0m\u001b[1;33m(\u001b[0m\u001b[1;36m0\u001b[0m\u001b[1;33m,\u001b[0m \u001b[0mw\u001b[0m\u001b[1;33m,\u001b[0m \u001b[0mcellSizeXdir\u001b[0m\u001b[1;33m)\u001b[0m\u001b[1;33m:\u001b[0m\u001b[1;33m\u001b[0m\u001b[0m\n\u001b[0m\u001b[0;32m     42\u001b[0m     \u001b[1;31m# draw a line from the current x-coordinate to the bottom of\u001b[0m\u001b[1;33m\u001b[0m\u001b[1;33m\u001b[0m\u001b[0m\n\u001b[0;32m     43\u001b[0m     \u001b[1;31m# the image\u001b[0m\u001b[1;33m\u001b[0m\u001b[1;33m\u001b[0m\u001b[0m\n",
      "\u001b[1;31mTypeError\u001b[0m: 'float' object cannot be interpreted as an integer"
     ]
    }
   ],
   "source": [
    "# construct the figure\n",
    "plt.style.use(\"ggplot\")\n",
    "(fig, ax) = plt.subplots()\n",
    "fig.suptitle(\"Local Binary Patterns\")\n",
    "plt.ylabel(\"% of Pixels\")\n",
    "plt.xlabel(\"LBP pixel bucket\")\n",
    "\n",
    "# plot a histogram of the LBP features and show it\n",
    "\n",
    "# displaying default to make cool image\n",
    "features = feature.local_binary_pattern(gray, 10, 5, method=\"default\") # method=\"uniform\")\n",
    "cv2.imshow(\"LBP\", features.astype(\"uint8\"))\n",
    "cv2.waitKey(0)\n",
    "\n",
    "# Save figure of lbp_image\n",
    "cv2.imwrite(\"LBP example feature/lbp_image.png\", features.astype(\"uint8\"))\n",
    "\n",
    "ax.hist(features.ravel(), density=True, bins=20, range=(0, 256))\n",
    "ax.set_xlim([0, 256])\n",
    "ax.set_ylim([0, 0.030])\n",
    "# save figure\n",
    "fig.savefig('LBP example feature/lbp_histogram.png')   # save the figure to file\n",
    "plt.show()\n",
    "\n",
    "cv2.destroyAllWindows()\n",
    "#######################################################################\n",
    "\n",
    "# create the 3D grayscale image --> so that I can make color squares for figures to the thesis\n",
    "# This does not change the histograms created. \n",
    "stacked = np.dstack([gray]* 3)\n",
    "\n",
    "# Divide the image into 100 pieces\n",
    "(h, w) = stacked.shape[:2]\n",
    "cellSizeYdir = h/10\n",
    "cellSizeXdir = w /10\n",
    "\n",
    "\n",
    "\n",
    "# Draw the box around area\n",
    "# loop over the x-axis of the image\n",
    "for x in range(0, w, cellSizeXdir):\n",
    "    # draw a line from the current x-coordinate to the bottom of\n",
    "    # the image\n",
    "\n",
    "    cv2.line(stacked, (x, 0), (x, h), (0, 255, 0), 1)\n",
    "    #   \n",
    "# loop over the y-axis of the image\n",
    "for y in range(0, h, cellSizeYdir):\n",
    "    # draw a line from the current y-coordinate to the right of\n",
    "    # the image\n",
    "    cv2.line(stacked, (0, y), (w, y), (0, 255, 0), 1)\n",
    "\n",
    "# draw a line at the bottom and far-right of the image\n",
    "cv2.line(stacked, (0, h - 1), (w, h - 1), (0, 255, 0), 1)\n",
    "cv2.line(stacked, (w - 1, 0), (w - 1, h - 1), (0, 255, 0), 1)\n"
   ]
  },
  {
   "cell_type": "code",
   "execution_count": 15,
   "id": "c2e9c12f-5cf6-4436-bfcb-b86991da4afe",
   "metadata": {},
   "outputs": [
    {
     "ename": "SyntaxError",
     "evalue": "invalid syntax (Temp/ipykernel_14668/1778978971.py, line 24)",
     "output_type": "error",
     "traceback": [
      "\u001b[1;36m  File \u001b[1;32m\"C:\\Users\\muham\\AppData\\Local\\Temp/ipykernel_14668/1778978971.py\"\u001b[1;36m, line \u001b[1;32m24\u001b[0m\n\u001b[1;33m    print len(np.unique(features))\u001b[0m\n\u001b[1;37m            ^\u001b[0m\n\u001b[1;31mSyntaxError\u001b[0m\u001b[1;31m:\u001b[0m invalid syntax\n"
     ]
    }
   ],
   "source": [
    "\n",
    "# construct the figure\n",
    "plt.style.use(\"ggplot\")\n",
    "(fig, ax) = plt.subplots()\n",
    "fig.suptitle(\"Local Binary Patterns\")\n",
    "plt.ylabel(\"% of Pixels\")\n",
    "plt.xlabel(\"LBP pixel bucket\")\n",
    "\n",
    "# extract the ROI from the image -- have t take into accound the different dimensions ... ...\n",
    "#start = cellSize * 6  #3\n",
    "#end = cellSize *7 # 4\n",
    "\n",
    "#roi = gray[start:end, start:end]\n",
    "#roi = gray[cellSizeXdir*6:cellSizeXdir*7, cellSizeYdir*6:cellSizeYdir*7]\n",
    "roi = gray[cellSizeXdir*5:cellSizeXdir*6, cellSizeYdir*5:cellSizeYdir*6]\n",
    "\n",
    "# Draw a red box around ROI\n",
    "#cv2.rectangle(stacked, (start, start), (end, end), (0, 0, 255), 2)\n",
    "cv2.rectangle(stacked, (cellSizeXdir*5, cellSizeYdir*5), (cellSizeXdir*6, cellSizeYdir*6), (0, 0, 255), 2)\n",
    "\n",
    "# plot a histogram of the LBP uniform feature and show the output\n",
    "#features = feature.local_binary_pattern(roi, 24, 3, method=\"uniform\")\n",
    "features = feature.local_binary_pattern(roi, 10, 5, method=\"uniform\")\n",
    "#lbp = feature.local_binary_pattern(roi, 10, 5, method=\"uniform\")\n",
    "print len(np.unique(features))\n",
    "print len(features)\n",
    "n_bins = features.max() + 1\n",
    "#ax.hist(features.ravel(), normed=True, bins=25, range=(0, 26))\n",
    "ax.hist(features.ravel(), density=True, bins=n_bins, range=(0,n_bins))\n",
    "# features.ravel()--> flattens the array into a 1d - array\n",
    "\n",
    "\n",
    "#ax.set_xlim([0, 26])\n",
    "cv2.imshow(\"{}px x {}px\".format(cellSize, cellSize), stacked)\n",
    "cv2.waitKey(0)\n",
    "# save figure\n",
    "fig.savefig('LBP example feature/lbp_histogramofROI_onStructure.png')   # save the figure to file\n",
    "#plt.close(fig)    # close the figure\n",
    "\n",
    "plt.show()\n",
    "\n",
    "\n",
    "# Save figure of grid with ROI\n",
    "cv2.imwrite(\"LBP example feature/grid_withRoi_lbp_onStructure.png\", stacked)"
   ]
  },
  {
   "cell_type": "code",
   "execution_count": null,
   "id": "e129c589-7cae-4c0e-a03a-62bb8e4121df",
   "metadata": {},
   "outputs": [],
   "source": []
  }
 ],
 "metadata": {
  "kernelspec": {
   "display_name": "Python 3 (ipykernel)",
   "language": "python",
   "name": "python3"
  },
  "language_info": {
   "codemirror_mode": {
    "name": "ipython",
    "version": 3
   },
   "file_extension": ".py",
   "mimetype": "text/x-python",
   "name": "python",
   "nbconvert_exporter": "python",
   "pygments_lexer": "ipython3",
   "version": "3.7.0"
  }
 },
 "nbformat": 4,
 "nbformat_minor": 5
}
